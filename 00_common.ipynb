{
 "cells": [
  {
   "cell_type": "code",
   "execution_count": null,
   "id": "cba895df-bc9d-4b13-a4ee-adbe7c8a9503",
   "metadata": {},
   "outputs": [],
   "source": [
    "# !pip install datasets jiwer g2p g2p_en\n",
    "# Import libraries\n",
    "# !pip3 install torch torchvision torchaudio\n",
    "# !pip show transformers\n",
    "# !pip install accelerate -U\n",
    "import torch\n",
    "from transformers import BartTokenizerFast, BartForConditionalGeneration, Seq2SeqTrainingArguments, Seq2SeqTrainer\n",
    "from datasets import load_dataset\n",
    "from sklearn.model_selection import train_test_split\n",
    "from jiwer import wer,cer\n",
    "from huggingface_hub import notebook_login\n",
    "import accelerate\n",
    "import os\n",
    "import pandas as pd\n",
    "from g2p_en import G2p\n",
    "import re\n",
    "from huggingface_hub import Repository\n",
    "\n",
    "print(accelerate.__version__)"
   ]
  },
  {
   "cell_type": "code",
   "execution_count": 1,
   "id": "bfd3ea25-9147-4328-9c3b-bf5894f3d927",
   "metadata": {},
   "outputs": [],
   "source": [
    "col_names = ['predictions', 'references']\n",
    "phoneme_col_names = ['predictions_phoneme', 'references_phoneme']\n",
    "SPEAKERS = ['F01', 'F03', 'F04', 'M01', 'M02', 'M03', 'M04', 'M05']\n",
    "# Define the source and target language columns\n",
    "source_lang = 'predictions_phoneme'\n",
    "target_lang = 'references_phoneme'\n",
    "max_length = 512\n",
    "\n",
    "from enum import Enum\n",
    "\n",
    "class TorgoTrainType(Enum):\n",
    "    WORD_NO_KEEP = \"word_no_keep\"\n",
    "    WORD_KEEP = \"word_keep\""
   ]
  },
  {
   "cell_type": "markdown",
   "id": "f2497a62-facf-4ae9-ab13-cf0e533d6e34",
   "metadata": {},
   "source": [
    "# BART"
   ]
  },
  {
   "cell_type": "code",
   "execution_count": null,
   "id": "6c6ad213-a7de-4c80-ae03-7a8b77fab466",
   "metadata": {},
   "outputs": [],
   "source": [
    "def print_dataframe_sizes(dataframes_dict):\n",
    "    for df_name, df in dataframes_dict.items():\n",
    "        print(f\"{df_name} - Data Size: {len(df)}\")\n",
    "    print()"
   ]
  },
  {
   "cell_type": "code",
   "execution_count": null,
   "id": "b06bd8bc-cfb7-4d2e-94e2-aff20fd79206",
   "metadata": {},
   "outputs": [],
   "source": [
    "# Tokenize the data\n",
    "# The preprocess_function function is defined to preprocess the data by tokenizing the inputs and labels\n",
    "def preprocess_function(examples):\n",
    "    inputs = [f'{source_lang}: {text}' for text in examples[source_lang]]\n",
    "    targets = examples[target_lang]\n",
    "    encoding = tokenizer(inputs, padding=True, truncation=True, return_tensors='pt', max_length=max_length)\n",
    "    model_inputs = {\n",
    "        'input_ids': encoding['input_ids'].squeeze(),\n",
    "        'attention_mask': encoding['attention_mask'].squeeze(),\n",
    "        'labels': tokenizer(targets, padding=True, truncation=True, return_tensors='pt')['input_ids'].squeeze()\n",
    "    }\n",
    "    return model_inputs\n",
    "\n",
    "# define a data_collator function for batch processing\n",
    "def data_collator(features):\n",
    "    batch = {}\n",
    "    # Pad input_ids and attention_mask to the maximum length within the batch\n",
    "    max_length = max(len(feature['input_ids']) for feature in features)\n",
    "    batch['input_ids'] = torch.stack([torch.tensor(feature['input_ids'] + [tokenizer.pad_token_id] * (max_length - len(feature['input_ids']))) for feature in features])\n",
    "    batch['attention_mask'] = torch.stack([torch.tensor(feature['attention_mask'] + [0] * (max_length - len(feature['attention_mask']))) for feature in features])\n",
    "    batch['labels'] = torch.stack([torch.tensor(feature['labels'] + [-100] * (max_length - len(feature['labels']))) for feature in features])\n",
    "    return batch"
   ]
  },
  {
   "cell_type": "code",
   "execution_count": null,
   "id": "0d955250-7e74-4789-9f14-d91ecfbc78e1",
   "metadata": {},
   "outputs": [],
   "source": []
  }
 ],
 "metadata": {
  "kernelspec": {
   "display_name": "Python 3 (ipykernel)",
   "language": "python",
   "name": "python3"
  },
  "language_info": {
   "codemirror_mode": {
    "name": "ipython",
    "version": 3
   },
   "file_extension": ".py",
   "mimetype": "text/x-python",
   "name": "python",
   "nbconvert_exporter": "python",
   "pygments_lexer": "ipython3",
   "version": "3.10.13"
  }
 },
 "nbformat": 4,
 "nbformat_minor": 5
}
